{
  "metadata": {
    "kernelspec": {
      "language": "python",
      "display_name": "Python 3",
      "name": "python3"
    },
    "language_info": {
      "name": "python",
      "version": "3.10.13",
      "mimetype": "text/x-python",
      "codemirror_mode": {
        "name": "ipython",
        "version": 3
      },
      "pygments_lexer": "ipython3",
      "nbconvert_exporter": "python",
      "file_extension": ".py"
    },
    "kaggle": {
      "accelerator": "nvidiaTeslaT4",
      "dataSources": [
        {
          "sourceId": 3243177,
          "sourceType": "datasetVersion",
          "datasetId": 1428914
        }
      ],
      "dockerImageVersionId": 30646,
      "isInternetEnabled": true,
      "language": "python",
      "sourceType": "notebook",
      "isGpuEnabled": true
    },
    "colab": {
      "name": "BREAST_CANCER_CLSS_002",
      "provenance": [],
      "include_colab_link": true
    }
  },
  "nbformat_minor": 0,
  "nbformat": 4,
  "cells": [
    {
      "cell_type": "markdown",
      "metadata": {
        "id": "view-in-github",
        "colab_type": "text"
      },
      "source": [
        "<a href=\"https://colab.research.google.com/github/Alisoltan82/Mammogram-app/blob/main/BREAST_CANCER_CLSS_002.ipynb\" target=\"_parent\"><img src=\"https://colab.research.google.com/assets/colab-badge.svg\" alt=\"Open In Colab\"/></a>"
      ]
    },
    {
      "source": [
        "\n",
        "# IMPORTANT: RUN THIS CELL IN ORDER TO IMPORT YOUR KAGGLE DATA SOURCES\n",
        "# TO THE CORRECT LOCATION (/kaggle/input) IN YOUR NOTEBOOK,\n",
        "# THEN FEEL FREE TO DELETE THIS CELL.\n",
        "# NOTE: THIS NOTEBOOK ENVIRONMENT DIFFERS FROM KAGGLE'S PYTHON\n",
        "# ENVIRONMENT SO THERE MAY BE MISSING LIBRARIES USED BY YOUR\n",
        "# NOTEBOOK.\n",
        "\n",
        "import os\n",
        "import sys\n",
        "from tempfile import NamedTemporaryFile\n",
        "from urllib.request import urlopen\n",
        "from urllib.parse import unquote, urlparse\n",
        "from urllib.error import HTTPError\n",
        "from zipfile import ZipFile\n",
        "import tarfile\n",
        "import shutil\n",
        "\n",
        "CHUNK_SIZE = 40960\n",
        "DATA_SOURCE_MAPPING = 'king-abdulaziz-university-mammogram-dataset:https%3A%2F%2Fstorage.googleapis.com%2Fkaggle-data-sets%2F1428914%2F3243177%2Fbundle%2Farchive.zip%3FX-Goog-Algorithm%3DGOOG4-RSA-SHA256%26X-Goog-Credential%3Dgcp-kaggle-com%2540kaggle-161607.iam.gserviceaccount.com%252F20240213%252Fauto%252Fstorage%252Fgoog4_request%26X-Goog-Date%3D20240213T095526Z%26X-Goog-Expires%3D259200%26X-Goog-SignedHeaders%3Dhost%26X-Goog-Signature%3Da24ad3bb6bb6ae754f97fc669e87a425366cd0cb9316e0c04a5b93c48b9844202c5f07e2e7a8d32f2c0c3a53e76d21ff2cf57b3b693811a075d9885c1fc790fd25f99ce079aa4c3913ef44a91a5787f2d2eca4d64d4bba56fab3a94cf00980abefee832e99141881f11023505e1f2bfe3f5a9315c89d845907a12a9bf4825fdfbc8d4e41def2f36857f0159b75960c0d2c50f54e3793568c10f68384d5e41814c1d091363c3df5bc948b044a7030cf54bdb205697c8fafa4a89a9fb9388c7d0d2779584a6f3a87d2eadea2f18ea5f7f1dbf55cc448f3454eafd428527277499b3457079dfb6c9247c8cfbddd78bcc13875a121385a344f55020555cc14e1e12c'\n",
        "\n",
        "KAGGLE_INPUT_PATH='/kaggle/input'\n",
        "KAGGLE_WORKING_PATH='/kaggle/working'\n",
        "KAGGLE_SYMLINK='kaggle'\n",
        "\n",
        "!umount /kaggle/input/ 2> /dev/null\n",
        "shutil.rmtree('/kaggle/input', ignore_errors=True)\n",
        "os.makedirs(KAGGLE_INPUT_PATH, 0o777, exist_ok=True)\n",
        "os.makedirs(KAGGLE_WORKING_PATH, 0o777, exist_ok=True)\n",
        "\n",
        "try:\n",
        "  os.symlink(KAGGLE_INPUT_PATH, os.path.join(\"..\", 'input'), target_is_directory=True)\n",
        "except FileExistsError:\n",
        "  pass\n",
        "try:\n",
        "  os.symlink(KAGGLE_WORKING_PATH, os.path.join(\"..\", 'working'), target_is_directory=True)\n",
        "except FileExistsError:\n",
        "  pass\n",
        "\n",
        "for data_source_mapping in DATA_SOURCE_MAPPING.split(','):\n",
        "    directory, download_url_encoded = data_source_mapping.split(':')\n",
        "    download_url = unquote(download_url_encoded)\n",
        "    filename = urlparse(download_url).path\n",
        "    destination_path = os.path.join(KAGGLE_INPUT_PATH, directory)\n",
        "    try:\n",
        "        with urlopen(download_url) as fileres, NamedTemporaryFile() as tfile:\n",
        "            total_length = fileres.headers['content-length']\n",
        "            print(f'Downloading {directory}, {total_length} bytes compressed')\n",
        "            dl = 0\n",
        "            data = fileres.read(CHUNK_SIZE)\n",
        "            while len(data) > 0:\n",
        "                dl += len(data)\n",
        "                tfile.write(data)\n",
        "                done = int(50 * dl / int(total_length))\n",
        "                sys.stdout.write(f\"\\r[{'=' * done}{' ' * (50-done)}] {dl} bytes downloaded\")\n",
        "                sys.stdout.flush()\n",
        "                data = fileres.read(CHUNK_SIZE)\n",
        "            if filename.endswith('.zip'):\n",
        "              with ZipFile(tfile) as zfile:\n",
        "                zfile.extractall(destination_path)\n",
        "            else:\n",
        "              with tarfile.open(tfile.name) as tarfile:\n",
        "                tarfile.extractall(destination_path)\n",
        "            print(f'\\nDownloaded and uncompressed: {directory}')\n",
        "    except HTTPError as e:\n",
        "        print(f'Failed to load (likely expired) {download_url} to path {destination_path}')\n",
        "        continue\n",
        "    except OSError as e:\n",
        "        print(f'Failed to load {download_url} to path {destination_path}')\n",
        "        continue\n",
        "\n",
        "print('Data source import complete.')\n"
      ],
      "metadata": {
        "id": "XV2PJfcc5Jh0"
      },
      "cell_type": "code",
      "outputs": [],
      "execution_count": null
    },
    {
      "cell_type": "code",
      "source": [
        "# This Python 3 environment comes with many helpful analytics libraries installed\n",
        "# It is defined by the kaggle/python Docker image: https://github.com/kaggle/docker-python\n",
        "# For example, here's several helpful packages to load\n",
        "\n",
        "import numpy as np # linear algebra\n",
        "import pandas as pd # data processing, CSV file I/O (e.g. pd.read_csv)\n",
        "\n",
        "# Input data files are available in the read-only \"../input/\" directory\n",
        "# For example, running this (by clicking run or pressing Shift+Enter) will list all files under the input directory\n",
        "\n",
        "import os\n",
        "for dirname, _, filenames in os.walk('/kaggle/input'):\n",
        "    for filename in filenames:\n",
        "        print(os.path.join(dirname, filename))\n",
        "\n",
        "# You can write up to 20GB to the current directory (/kaggle/working/) that gets preserved as output when you create a version using \"Save & Run All\"\n",
        "# You can also write temporary files to /kaggle/temp/, but they won't be saved outside of the current session"
      ],
      "metadata": {
        "_uuid": "8f2839f25d086af736a60e9eeb907d3b93b6e0e5",
        "_cell_guid": "b1076dfc-b9ad-4769-8c92-a6c4dae69d19",
        "execution": {
          "iopub.status.busy": "2024-02-12T08:11:19.657544Z",
          "iopub.execute_input": "2024-02-12T08:11:19.657876Z",
          "iopub.status.idle": "2024-02-12T08:11:21.763569Z",
          "shell.execute_reply.started": "2024-02-12T08:11:19.657835Z",
          "shell.execute_reply": "2024-02-12T08:11:21.762578Z"
        },
        "trusted": true,
        "id": "HlIHb8bV5Jh4"
      },
      "execution_count": null,
      "outputs": []
    },
    {
      "cell_type": "code",
      "source": [
        "!pip install monai"
      ],
      "metadata": {
        "execution": {
          "iopub.status.busy": "2024-02-12T08:11:21.765153Z",
          "iopub.execute_input": "2024-02-12T08:11:21.766077Z",
          "iopub.status.idle": "2024-02-12T08:11:37.077969Z",
          "shell.execute_reply.started": "2024-02-12T08:11:21.766047Z",
          "shell.execute_reply": "2024-02-12T08:11:37.076744Z"
        },
        "trusted": true,
        "id": "cXAb0XYP5Jh5"
      },
      "execution_count": null,
      "outputs": []
    },
    {
      "cell_type": "code",
      "source": [
        "from monai.apps.tcia import TCIA_LABEL_DICT\n",
        "from monai.config import print_config\n",
        "from monai.networks.nets import UNet , DenseNet , EfficientNet\n",
        "from monai.networks.layers import Norm\n",
        "from monai.metrics import DiceMetric , get_confusion_matrix\n",
        "from monai.losses import DiceLoss , DiceCELoss\n",
        "from monai.inferers import sliding_window_inference\n",
        "from monai.data import CacheDataset, DataLoader, Dataset, decollate_batch , ArrayDataset\n",
        "from monai.apps import TciaDataset\n",
        "from monai.config import print_config , KeysCollection\n",
        "from monai.utils import first , set_determinism\n",
        "from monai.transforms import (\n",
        "    Compose,\n",
        "    LoadImage,\n",
        "    LoadImaged,\n",
        "    EnsureChannelFirst,\n",
        "    EnsureChannelFirstd,\n",
        "    ToTensor,\n",
        "    ToTensord,\n",
        "    ScaleIntensityRange,\n",
        "    ScaleIntensityRanged,\n",
        "    ThresholdIntensity,\n",
        "    ThresholdIntensityd,\n",
        "    SaveImaged,\n",
        "    Spacingd,\n",
        "    CropForegroundd,\n",
        "    Orientationd,\n",
        "    AsDiscrete,\n",
        "    RandCropByPosNegLabeld,\n",
        "    DivisiblePadd,\n",
        "    Resized,\n",
        "    RandFlipd,\n",
        "    RandRotate90d,\n",
        "    RandShiftIntensityd\n",
        "\n",
        "\n",
        "\n",
        "\n",
        ")\n",
        "\n",
        "print_config()"
      ],
      "metadata": {
        "execution": {
          "iopub.status.busy": "2024-02-12T08:11:37.079593Z",
          "iopub.execute_input": "2024-02-12T08:11:37.079991Z",
          "iopub.status.idle": "2024-02-12T08:12:21.359563Z",
          "shell.execute_reply.started": "2024-02-12T08:11:37.079952Z",
          "shell.execute_reply": "2024-02-12T08:12:21.358686Z"
        },
        "trusted": true,
        "id": "dJMwVagl5Jh6"
      },
      "execution_count": null,
      "outputs": []
    },
    {
      "cell_type": "code",
      "source": [
        "from glob import glob\n",
        "import os\n",
        "import cv2\n",
        "from pathlib import Path\n",
        "import matplotlib.pyplot as plt"
      ],
      "metadata": {
        "execution": {
          "iopub.status.busy": "2024-02-12T08:12:21.361815Z",
          "iopub.execute_input": "2024-02-12T08:12:21.36249Z",
          "iopub.status.idle": "2024-02-12T08:12:21.367474Z",
          "shell.execute_reply.started": "2024-02-12T08:12:21.362461Z",
          "shell.execute_reply": "2024-02-12T08:12:21.366368Z"
        },
        "trusted": true,
        "id": "OrFXfkPN5Jh7"
      },
      "execution_count": null,
      "outputs": []
    },
    {
      "cell_type": "code",
      "source": [
        "ROOT_PATH = Path('/kaggle/input/king-abdulaziz-university-mammogram-dataset/')\n",
        "SAVE_PATH = Path('/kaggle/working/output')\n",
        "img_path_list = sorted(glob(os.path.join(ROOT_PATH/'*'/'*'/'*.jpg')))\n",
        "len(img_path_list)"
      ],
      "metadata": {
        "execution": {
          "iopub.status.busy": "2024-02-12T08:12:21.368976Z",
          "iopub.execute_input": "2024-02-12T08:12:21.369287Z",
          "iopub.status.idle": "2024-02-12T08:12:21.4116Z",
          "shell.execute_reply.started": "2024-02-12T08:12:21.369252Z",
          "shell.execute_reply": "2024-02-12T08:12:21.410669Z"
        },
        "trusted": true,
        "id": "qm6CzhyO5Jh7"
      },
      "execution_count": null,
      "outputs": []
    },
    {
      "cell_type": "code",
      "source": [
        "#building dataframe via img_folders\n",
        "\n",
        "data = pd.DataFrame()\n",
        "data['path'] = img_path_list\n",
        "data"
      ],
      "metadata": {
        "execution": {
          "iopub.status.busy": "2024-02-12T08:12:21.412972Z",
          "iopub.execute_input": "2024-02-12T08:12:21.413323Z",
          "iopub.status.idle": "2024-02-12T08:12:21.436093Z",
          "shell.execute_reply.started": "2024-02-12T08:12:21.41329Z",
          "shell.execute_reply": "2024-02-12T08:12:21.435186Z"
        },
        "trusted": true,
        "id": "3GbsWz215Jh8"
      },
      "execution_count": null,
      "outputs": []
    },
    {
      "cell_type": "code",
      "source": [
        "data['filename'] = data['path'].str.split('/').str[-1]\n",
        "data['date'] = data['filename'].str.split('_').str[0]\n",
        "data['patientid'] = data['filename'].str.split('_').str[1]\n",
        "data['mode'] = data['filename'].str.split('_').str[2]\n",
        "data['position'] = data['filename'].str.split('_').str[-1].str.split('.').str[0]\n",
        "data['label'] = data['path'].str.split('/').str[-3]\n",
        "data"
      ],
      "metadata": {
        "execution": {
          "iopub.status.busy": "2024-02-12T08:12:21.437513Z",
          "iopub.execute_input": "2024-02-12T08:12:21.43782Z",
          "iopub.status.idle": "2024-02-12T08:12:21.489519Z",
          "shell.execute_reply.started": "2024-02-12T08:12:21.437792Z",
          "shell.execute_reply": "2024-02-12T08:12:21.48863Z"
        },
        "trusted": true,
        "id": "TGyR5QEI5Jh8"
      },
      "execution_count": null,
      "outputs": []
    },
    {
      "cell_type": "code",
      "source": [
        "#images visualization\n",
        "fig , axis = plt.subplots(4,4,figsize = (10,15))\n",
        "c = 0\n",
        "\n",
        "for i in range(4):\n",
        "    for j in range(4):\n",
        "        img_path = data['path'].iloc[c]\n",
        "        img = cv2.imread(img_path , cv2.IMREAD_GRAYSCALE)\n",
        "\n",
        "        label = data['label'].iloc[c]\n",
        "        mode = data['mode'].iloc[c]\n",
        "\n",
        "        axis[i][j].imshow(img , cmap = 'bone')\n",
        "        axis[i][j].set_title(f'{label}\\n{mode}')\n",
        "        c+=100"
      ],
      "metadata": {
        "execution": {
          "iopub.status.busy": "2024-02-12T08:12:21.490924Z",
          "iopub.execute_input": "2024-02-12T08:12:21.49119Z"
        },
        "trusted": true,
        "id": "lGNZ1UDR5Jh9"
      },
      "execution_count": null,
      "outputs": []
    },
    {
      "cell_type": "code",
      "source": [
        "from sklearn.preprocessing import LabelEncoder\n",
        "from sklearn.model_selection import train_test_split\n",
        "\n",
        "encoder = LabelEncoder()\n",
        "data['y'] = encoder.fit_transform(data['label'])\n",
        "\n",
        "\n",
        "x = data['path'][:-10]\n",
        "y = data['y'][:-10]\n",
        "\n",
        "x_test = data['path'][-10:]\n",
        "y_test = data['y'][-10:]\n",
        "\n",
        "x_train,x_test , y_train, y_test = train_test_split(x,y , test_size = 0.3 , random_state = 42 ,shuffle = True)\n",
        "\n",
        "len(x_train) , len(y_train) , len(x_test) , len(y_test)"
      ],
      "metadata": {
        "trusted": true,
        "id": "BfAZuVVJ5Jh9"
      },
      "execution_count": null,
      "outputs": []
    },
    {
      "cell_type": "code",
      "source": [
        "test = cv2.imread(data['path'][0] , cv2.IMREAD_GRAYSCALE)\n",
        "print(np.max(test)) , print(np.min(test))\n",
        "test_s = test/255\n",
        "print(np.max(test_s)) , print(np.min(test_s) , test_s.shape)\n",
        "nn = np.sum(test_s)/ 224**2\n",
        "print(nn)"
      ],
      "metadata": {
        "trusted": true,
        "id": "h4C3TFF75Jh-"
      },
      "execution_count": null,
      "outputs": []
    },
    {
      "cell_type": "code",
      "source": [
        "SAVE_DIR = Path('/kaggle/working/')\n",
        "\n",
        "from tqdm.auto import tqdm\n",
        "\n",
        "sums , sums_squared = 0,0\n",
        "\n",
        "for c, patient in enumerate(tqdm(x_train)):\n",
        "    img_path = x_train.iloc[c]\n",
        "    img = cv2.imread(img_path , cv2.IMREAD_GRAYSCALE) /255 #scaling\n",
        "    img_r = cv2.resize(img , (224,224)).astype(np.float16)\n",
        "    label = y_train.iloc[c]\n",
        "\n",
        "\n",
        "    train_folder = 'train'\n",
        "    save_path = SAVE_DIR/ train_folder / str(label)\n",
        "    save_path.mkdir(parents = True , exist_ok = True)\n",
        "    np.save(save_path/str(c).zfill(3) , img_r)\n",
        "\n",
        "    normalizer = 224*224 #new image dims\n",
        "\n",
        "    sums += np.sum(img_r)/normalizer\n",
        "    sums_squared += (img_r **2).sum() / normalizer"
      ],
      "metadata": {
        "execution": {
          "iopub.status.idle": "2024-02-12T08:13:52.622739Z",
          "shell.execute_reply.started": "2024-02-12T08:12:34.01531Z",
          "shell.execute_reply": "2024-02-12T08:13:52.621753Z"
        },
        "trusted": true,
        "id": "qYpDZaoE5Jh-"
      },
      "execution_count": null,
      "outputs": []
    },
    {
      "cell_type": "code",
      "source": [
        "for c, patient in enumerate(tqdm(x_test)):\n",
        "    img_path = x_test.iloc[c]\n",
        "    img = cv2.imread(img_path , cv2.IMREAD_GRAYSCALE) /255 #scaling\n",
        "    img_r = cv2.resize(img , (224,224)).astype(np.float16)\n",
        "    label = y_test.iloc[c]\n",
        "\n",
        "\n",
        "    test_folder = 'val'\n",
        "    save_path = SAVE_DIR/ test_folder / str(label)\n",
        "    save_path.mkdir(parents = True , exist_ok = True)\n",
        "    np.save(save_path/str(c).zfill(3) , img_r)"
      ],
      "metadata": {
        "execution": {
          "iopub.status.busy": "2024-02-12T08:13:52.623969Z",
          "iopub.execute_input": "2024-02-12T08:13:52.624247Z",
          "iopub.status.idle": "2024-02-12T08:14:25.711784Z",
          "shell.execute_reply.started": "2024-02-12T08:13:52.624222Z",
          "shell.execute_reply": "2024-02-12T08:14:25.710881Z"
        },
        "trusted": true,
        "id": "hC7UrLbs5Jh-"
      },
      "execution_count": null,
      "outputs": []
    },
    {
      "cell_type": "code",
      "source": [
        "mean = sums / len(x_train)\n",
        "print(f'train images mean = {mean}')\n",
        "\n",
        "std = np.sqrt((sums_squared/len(x_train)) - mean**2)\n",
        "print(f'train images standard deviation = {std}')"
      ],
      "metadata": {
        "execution": {
          "iopub.status.busy": "2024-02-12T08:14:25.71306Z",
          "iopub.execute_input": "2024-02-12T08:14:25.713371Z",
          "iopub.status.idle": "2024-02-12T08:14:25.719284Z",
          "shell.execute_reply.started": "2024-02-12T08:14:25.71332Z",
          "shell.execute_reply": "2024-02-12T08:14:25.718313Z"
        },
        "trusted": true,
        "id": "WO0I4HSU5Jh_"
      },
      "execution_count": null,
      "outputs": []
    },
    {
      "cell_type": "code",
      "source": [
        "mean.dtype"
      ],
      "metadata": {
        "execution": {
          "iopub.status.busy": "2024-02-12T08:14:25.720247Z",
          "iopub.execute_input": "2024-02-12T08:14:25.720564Z",
          "iopub.status.idle": "2024-02-12T08:14:25.730572Z",
          "shell.execute_reply.started": "2024-02-12T08:14:25.720539Z",
          "shell.execute_reply": "2024-02-12T08:14:25.72959Z"
        },
        "trusted": true,
        "id": "5EjcEMye5Jh_"
      },
      "execution_count": null,
      "outputs": []
    },
    {
      "cell_type": "code",
      "source": [
        "import torch\n",
        "from torch import nn , optim, Tensor, manual_seed, argmax\n",
        "import torchvision\n",
        "from torchvision import transforms\n",
        "import torchmetrics\n",
        "import torch.nn.functional as F\n",
        "\n",
        "torch.__version__"
      ],
      "metadata": {
        "execution": {
          "iopub.status.busy": "2024-02-12T08:14:25.731795Z",
          "iopub.execute_input": "2024-02-12T08:14:25.732203Z",
          "iopub.status.idle": "2024-02-12T08:14:26.03126Z",
          "shell.execute_reply.started": "2024-02-12T08:14:25.732177Z",
          "shell.execute_reply": "2024-02-12T08:14:26.030318Z"
        },
        "trusted": true,
        "id": "oTaVa7EZ5Jh_"
      },
      "execution_count": null,
      "outputs": []
    },
    {
      "cell_type": "code",
      "source": [
        "def load_file(path):\n",
        "    return np.load(path).astype(np.float32)\n",
        "\n",
        "\n",
        "train_transforms = transforms.Compose([\n",
        "    transforms.ToTensor(),\n",
        "    transforms.Normalize(mean = mean , std = std ),\n",
        "    transforms.RandomAffine(degrees = (-5,5) , translate = (0, 0.05) , scale = (0.9 , 1.1) ),\n",
        "    transforms.RandomResizedCrop(size = (224,224) , scale = (0.5 , 1.0), antialias = True)\n",
        "\n",
        "])\n",
        "\n",
        "\n",
        "val_transforms = transforms.Compose([\n",
        "    transforms.ToTensor(),\n",
        "    transforms.Normalize(mean = mean , std = std),\n",
        "\n",
        "])"
      ],
      "metadata": {
        "execution": {
          "iopub.status.busy": "2024-02-12T08:14:26.032724Z",
          "iopub.execute_input": "2024-02-12T08:14:26.032985Z",
          "iopub.status.idle": "2024-02-12T08:14:26.039832Z",
          "shell.execute_reply.started": "2024-02-12T08:14:26.032964Z",
          "shell.execute_reply": "2024-02-12T08:14:26.038808Z"
        },
        "trusted": true,
        "id": "8KyPfKlI5Jh_"
      },
      "execution_count": null,
      "outputs": []
    },
    {
      "cell_type": "code",
      "source": [
        "training = glob(os.path.join('/kaggle/working/train' , '*' ,'*.npy') , recursive = True)\n",
        "testing = glob(os.path.join('/kaggle/working/val' , '*' ,'*.npy'), recursive = True)\n",
        "len(training) , len(testing)"
      ],
      "metadata": {
        "execution": {
          "iopub.status.busy": "2024-02-12T08:14:26.04118Z",
          "iopub.execute_input": "2024-02-12T08:14:26.041821Z",
          "iopub.status.idle": "2024-02-12T08:14:26.06189Z",
          "shell.execute_reply.started": "2024-02-12T08:14:26.041795Z",
          "shell.execute_reply": "2024-02-12T08:14:26.061022Z"
        },
        "trusted": true,
        "id": "NPy5oKiY5Jh_"
      },
      "execution_count": null,
      "outputs": []
    },
    {
      "cell_type": "code",
      "source": [
        "train_dataset = torchvision.datasets.DatasetFolder('/kaggle/working/train' ,\n",
        "                                                   loader = load_file ,\n",
        "                                                   extensions = 'npy' ,\n",
        "                                                   transform = train_transforms)\n",
        "\n",
        "val_dataset = torchvision.datasets.DatasetFolder('/kaggle/working/val' ,\n",
        "                                                   loader = load_file ,\n",
        "                                                   extensions = 'npy' ,\n",
        "                                                   transform = val_transforms)"
      ],
      "metadata": {
        "execution": {
          "iopub.status.busy": "2024-02-12T08:14:26.062862Z",
          "iopub.execute_input": "2024-02-12T08:14:26.063098Z",
          "iopub.status.idle": "2024-02-12T08:14:26.080162Z",
          "shell.execute_reply.started": "2024-02-12T08:14:26.063077Z",
          "shell.execute_reply": "2024-02-12T08:14:26.079302Z"
        },
        "trusted": true,
        "id": "eck80rhv5JiA"
      },
      "execution_count": null,
      "outputs": []
    },
    {
      "cell_type": "code",
      "source": [
        "fig , axis = plt.subplots(3,3,figsize = (9,10))\n",
        "for i in range(3):\n",
        "    for j in range(3):\n",
        "        random_idx = np.random.randint(0 , 300)\n",
        "        img , label = train_dataset[random_idx]\n",
        "        axis[i][j].imshow(img[0] , cmap = 'bone')\n",
        "        axis[i][j].set_title(label)\n",
        "plt.show();"
      ],
      "metadata": {
        "execution": {
          "iopub.status.busy": "2024-02-12T08:14:26.081189Z",
          "iopub.execute_input": "2024-02-12T08:14:26.081519Z",
          "iopub.status.idle": "2024-02-12T08:14:27.621154Z",
          "shell.execute_reply.started": "2024-02-12T08:14:26.081487Z",
          "shell.execute_reply": "2024-02-12T08:14:27.62027Z"
        },
        "trusted": true,
        "id": "Ygwdo_os5JiA"
      },
      "execution_count": null,
      "outputs": []
    },
    {
      "cell_type": "code",
      "source": [
        "#data_loader for datasets\n",
        "batch_size = 32\n",
        "num_workers = os.cpu_count()\n",
        "\n",
        "train_loader = torch.utils.data.DataLoader(train_dataset,\n",
        "                                          batch_size = batch_size,\n",
        "                                          num_workers = num_workers,\n",
        "                                          shuffle = True)\n",
        "\n",
        "val_loader = torch.utils.data.DataLoader(val_dataset,\n",
        "                                          batch_size = batch_size,\n",
        "                                          num_workers = num_workers,\n",
        "                                          shuffle = False)"
      ],
      "metadata": {
        "execution": {
          "iopub.status.busy": "2024-02-12T08:14:27.622478Z",
          "iopub.execute_input": "2024-02-12T08:14:27.622839Z",
          "iopub.status.idle": "2024-02-12T08:14:27.629313Z",
          "shell.execute_reply.started": "2024-02-12T08:14:27.622803Z",
          "shell.execute_reply": "2024-02-12T08:14:27.628521Z"
        },
        "trusted": true,
        "id": "NAlX2PWt5JiA"
      },
      "execution_count": null,
      "outputs": []
    },
    {
      "cell_type": "code",
      "source": [
        "#checking data imbalance\n",
        "np.unique(train_dataset.targets , return_counts = True)"
      ],
      "metadata": {
        "execution": {
          "iopub.status.busy": "2024-02-12T08:14:27.630657Z",
          "iopub.execute_input": "2024-02-12T08:14:27.630945Z",
          "iopub.status.idle": "2024-02-12T08:14:27.641734Z",
          "shell.execute_reply.started": "2024-02-12T08:14:27.630921Z",
          "shell.execute_reply": "2024-02-12T08:14:27.640835Z"
        },
        "trusted": true,
        "id": "UWzqyRls5JiB"
      },
      "execution_count": null,
      "outputs": []
    },
    {
      "cell_type": "code",
      "source": [
        "train_features_batch , train_labels_batch = next(iter(train_loader))\n",
        "train_features_batch.shape , train_labels_batch.shape , train_labels_batch.dtype"
      ],
      "metadata": {
        "execution": {
          "iopub.status.busy": "2024-02-12T08:14:27.642864Z",
          "iopub.execute_input": "2024-02-12T08:14:27.643238Z",
          "iopub.status.idle": "2024-02-12T08:14:28.118792Z",
          "shell.execute_reply.started": "2024-02-12T08:14:27.643213Z",
          "shell.execute_reply": "2024-02-12T08:14:28.117525Z"
        },
        "trusted": true,
        "id": "HxKzlxQe5JiB"
      },
      "execution_count": null,
      "outputs": []
    },
    {
      "cell_type": "code",
      "source": [
        "from monai.networks.nets import EfficientNetBN\n",
        "model = EfficientNetBN(\"efficientnet-b5\",\n",
        "                       pretrained=True,\n",
        "                       spatial_dims=2,\n",
        "                       in_channels=1,\n",
        "                       num_classes=4).to(device)\n",
        "\n",
        "# outputs = model(inputs)"
      ],
      "metadata": {
        "execution": {
          "iopub.status.busy": "2024-02-12T11:11:16.451038Z",
          "iopub.execute_input": "2024-02-12T11:11:16.451455Z",
          "iopub.status.idle": "2024-02-12T11:11:18.02825Z",
          "shell.execute_reply.started": "2024-02-12T11:11:16.451422Z",
          "shell.execute_reply": "2024-02-12T11:11:18.02712Z"
        },
        "trusted": true,
        "id": "IHNhQW_-5JiB"
      },
      "execution_count": null,
      "outputs": []
    },
    {
      "cell_type": "code",
      "source": [
        "#Model\n",
        "device = torch.device(\"cuda\")\n",
        "# model = EfficientNet(blocks_args_str=['r1_k3_s11_e1_i32_o4_se0.25']\n",
        "#     ,spatial_dims=2,\n",
        "#     in_channels=1,\n",
        "#     num_classes = 4,\n",
        "#     image_size = 224,\n",
        "#     norm=Norm.BATCH,\n",
        "# ).to(device)\n",
        "\n",
        "loss_function = nn.CrossEntropyLoss(weight = torch.tensor([1/1306 , 1/267 , 1/76 , 1/8]) ).to(device)\n",
        "optimizer = torch.optim.Adam(model.parameters(), 1e-3)\n",
        "Accuracy = torchmetrics.Accuracy(task='multiclass',\n",
        "                                     num_classes=4)"
      ],
      "metadata": {
        "execution": {
          "iopub.status.busy": "2024-02-12T11:11:34.285507Z",
          "iopub.execute_input": "2024-02-12T11:11:34.286426Z",
          "iopub.status.idle": "2024-02-12T11:11:34.297097Z",
          "shell.execute_reply.started": "2024-02-12T11:11:34.286372Z",
          "shell.execute_reply": "2024-02-12T11:11:34.296261Z"
        },
        "trusted": true,
        "id": "ZRM6Jezp5JiB"
      },
      "execution_count": null,
      "outputs": []
    },
    {
      "cell_type": "code",
      "source": [
        "max_epochs = 100\n",
        "val_interval = 1\n",
        "best_metric = -1\n",
        "best_metric_epoch = -1\n",
        "train_losses = []\n",
        "val_losses = []\n",
        "metric_values = []\n",
        "train_correct = []\n",
        "val_correct = []\n",
        "\n",
        "\n",
        "for epoch in range(max_epochs):\n",
        "\n",
        "    trn_corr , val_corr = 0,0\n",
        "\n",
        "    print(\"-\" * 10)\n",
        "    print(f\"epoch {epoch + 1}/{max_epochs}\")\n",
        "    model.train()\n",
        "\n",
        "    step = 0\n",
        "    for batch,(x,y) in enumerate(train_loader):\n",
        "        total_loss = 0\n",
        "        step += 1\n",
        "        x, y = (\n",
        "            x.to(device),\n",
        "            y.to(device),\n",
        "        )\n",
        "        logits = model(x)\n",
        "\n",
        "        loss = loss_function(logits, y)\n",
        "        y_pred = argmax(torch.softmax(logits , dim = 1) , dim = 1)\n",
        "        batch_corr = (y_pred == y).sum()\n",
        "        trn_corr += batch_corr\n",
        "\n",
        "        optimizer.zero_grad()\n",
        "        loss.backward()\n",
        "        optimizer.step()\n",
        "        total_loss += loss.item()\n",
        "\n",
        "\n",
        "#         if step % 2 == 0:\n",
        "#             print(f'epoch: {epoch +1} | BATCH:{batch} | LOSS: {loss.item()}')\n",
        "        #print(f'MEAN_loss: {mean_loss/len(train_loader)}')\n",
        "\n",
        "    #epoch_loss /= step\n",
        "    train_losses.append(total_loss)\n",
        "    train_correct.append(trn_corr)\n",
        "    #print(f'epoch: {epoch +1} | mean loss: {total_loss}')\n",
        "    np.save(os.path.join(SAVE_DIR , 'train_losses.npy'),total_loss)\n",
        "\n",
        "\n",
        "    if (epoch + 1) % val_interval == 0:\n",
        "        model.eval()\n",
        "        with torch.inference_mode():\n",
        "            val_loss,val_acc = 0,0\n",
        "            for batch,(x,y) in enumerate(val_loader):\n",
        "                x, y = (\n",
        "                    x.to(device),\n",
        "                    y.to(device),\n",
        "                )\n",
        "\n",
        "                logits = model(x)\n",
        "                loss = loss_function(logits, y)\n",
        "                y_pred = argmax(torch.softmax(logits, dim = 1) , dim = 1)\n",
        "\n",
        "                val_loss += loss.item()\n",
        "                val_corr += (y_pred == y).sum()\n",
        "\n",
        "\n",
        "            print(f'epoch: {epoch} | \\n val_corr: {val_corr} out of {len(val_dataset)} ACC: {val_corr/len(val_dataset) * 100}')\n",
        "\n",
        "        val_losses.append(val_loss)\n",
        "        val_correct.append(val_corr)\n",
        "        np.save(os.path.join(SAVE_DIR , 'val_losses.npy'),val_losses)\n",
        "        torch.save(model.state_dict(), os.path.join(SAVE_DIR, \"breast_metric_B7_model.pth\"))\n",
        "\n"
      ],
      "metadata": {
        "execution": {
          "iopub.status.busy": "2024-02-12T11:16:46.80266Z",
          "iopub.execute_input": "2024-02-12T11:16:46.803517Z",
          "iopub.status.idle": "2024-02-12T12:21:47.576441Z",
          "shell.execute_reply.started": "2024-02-12T11:16:46.803478Z",
          "shell.execute_reply": "2024-02-12T12:21:47.575324Z"
        },
        "trusted": true,
        "id": "VRnXZg5Q5JiB"
      },
      "execution_count": null,
      "outputs": []
    },
    {
      "cell_type": "code",
      "source": [
        "plt.plot(train_losses , label = 'train')\n",
        "plt.plot(val_losses , label = 'val')\n",
        "plt.legend()"
      ],
      "metadata": {
        "execution": {
          "iopub.status.busy": "2024-02-12T12:21:47.578859Z",
          "iopub.execute_input": "2024-02-12T12:21:47.57917Z",
          "iopub.status.idle": "2024-02-12T12:21:47.812689Z",
          "shell.execute_reply.started": "2024-02-12T12:21:47.57914Z",
          "shell.execute_reply": "2024-02-12T12:21:47.811629Z"
        },
        "trusted": true,
        "id": "rYV3TmmR5JiC"
      },
      "execution_count": null,
      "outputs": []
    },
    {
      "cell_type": "code",
      "source": [
        "train_correct"
      ],
      "metadata": {
        "execution": {
          "iopub.status.busy": "2024-02-12T12:22:39.817967Z",
          "iopub.execute_input": "2024-02-12T12:22:39.818873Z",
          "iopub.status.idle": "2024-02-12T12:22:39.841219Z",
          "shell.execute_reply.started": "2024-02-12T12:22:39.818837Z",
          "shell.execute_reply": "2024-02-12T12:22:39.840384Z"
        },
        "trusted": true,
        "id": "aYWksFnD5JiC"
      },
      "execution_count": null,
      "outputs": []
    },
    {
      "cell_type": "code",
      "source": [
        "plt.plot([t.cpu().detach().numpy()/len(train_dataset) for t in train_correct] , label = 'train_corr')\n",
        "plt.plot([t.cpu().detach().numpy()/len(val_dataset) for t in val_correct] , label = 'val_corr')\n",
        "plt.legend()"
      ],
      "metadata": {
        "execution": {
          "iopub.status.busy": "2024-02-12T12:26:00.394367Z",
          "iopub.execute_input": "2024-02-12T12:26:00.394762Z",
          "iopub.status.idle": "2024-02-12T12:26:00.615494Z",
          "shell.execute_reply.started": "2024-02-12T12:26:00.39473Z",
          "shell.execute_reply": "2024-02-12T12:26:00.614565Z"
        },
        "trusted": true,
        "id": "c4w9r9E35JiC"
      },
      "execution_count": null,
      "outputs": []
    },
    {
      "cell_type": "code",
      "source": [
        "plt.figure(\"train\", (12, 6))\n",
        "plt.subplot(1, 2, 1)\n",
        "plt.title(\"Epoch Average Loss\")\n",
        "x = [i + 1 for i in range(len(train_losses))]\n",
        "y = train_losses\n",
        "plt.xlabel(\"epoch\")\n",
        "plt.plot(x, y)\n",
        "# plt.subplot(1, 2, 2)\n",
        "# plt.title(\"Val Mean Dice\")\n",
        "# x = [val_interval * (i + 1) for i in range(len(val_loss))]\n",
        "# y = val_loss\n",
        "# plt.xlabel(\"epoch\")\n",
        "# plt.plot(x, y)\n",
        "# plt.show()"
      ],
      "metadata": {
        "execution": {
          "iopub.status.busy": "2024-02-12T10:09:18.134574Z",
          "iopub.execute_input": "2024-02-12T10:09:18.134976Z",
          "iopub.status.idle": "2024-02-12T10:09:18.41485Z",
          "shell.execute_reply.started": "2024-02-12T10:09:18.134941Z",
          "shell.execute_reply": "2024-02-12T10:09:18.413703Z"
        },
        "trusted": true,
        "id": "r5bBltg35JiC"
      },
      "execution_count": null,
      "outputs": []
    },
    {
      "cell_type": "code",
      "source": [],
      "metadata": {
        "id": "MSjb95jl5JiD"
      },
      "execution_count": null,
      "outputs": []
    }
  ]
}